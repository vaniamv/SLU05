{
  "nbformat": 4,
  "nbformat_minor": 0,
  "metadata": {
    "colab": {
      "provenance": [],
      "name": "streaming_ELT_ DEMO.ipynb",
      "include_colab_link": true
    },
    "kernelspec": {
      "name": "python3",
      "display_name": "Python 3"
    },
    "language_info": {
      "name": "python"
    }
  },
  "cells": [
    {
      "cell_type": "markdown",
      "metadata": {
        "id": "view-in-github",
        "colab_type": "text"
      },
      "source": [
        "<a href=\"https://colab.research.google.com/github/vaniamv/SLU05/blob/main/streaming_ELT__DEMO.ipynb\" target=\"_parent\"><img src=\"https://colab.research.google.com/assets/colab-badge.svg\" alt=\"Open In Colab\"/></a>"
      ]
    },
    {
      "cell_type": "markdown",
      "source": [
        "### Aplication in Real Time to Read Carris API - group 1 - ELT approach\n",
        "\n",
        "This notebook documents the steps to implement a data pipeline leveraging Google Cloud Platform (GCP), following an **ELT (Extract, Load, Transform)** approach. The pipeline processes data in two stages:\n",
        "\n",
        "\n",
        "1.   *Streaming Ingestion (Extract and Load):*\n",
        "Data is ingested in real-time from a source bucket on GCP (input bucket) and stored in a bronze layer bucket, preserving the raw format for further processing.\n",
        "2.   *Batch Transformation (Transform):*\n",
        "The raw data from the bronze layer is transformed in batches. These transformations clean, standardize, and structure the data, preparing it for analytical use. The transformed data is then stored in the silver layer bucket for downstream consumption.\n",
        "\n",
        "By prioritizing the ELT approach, this pipeline ensures flexibility in processing and allows the raw data to remain available for future transformations, ensuring adaptability to evolving business requirements.\n",
        "\n",
        "\n",
        "---\n",
        "\n",
        "\n",
        "\n",
        "---\n",
        "\n",
        "\n",
        "\n",
        "\n",
        "\n",
        "\n"
      ],
      "metadata": {
        "id": "mswj15PSFOZO"
      }
    },
    {
      "cell_type": "markdown",
      "source": [
        "1. Authentication to Google Cloud Platform (GCP)\n",
        "\n"
      ],
      "metadata": {
        "id": "Af0Q2ITZKZTI"
      }
    },
    {
      "cell_type": "code",
      "execution_count": null,
      "metadata": {
        "colab": {
          "base_uri": "https://localhost:8080/"
        },
        "id": "Nasp9TP3zwaM",
        "outputId": "cb00a262-797b-4bbf-b53e-feff9f3e4886"
      },
      "outputs": [
        {
          "output_type": "stream",
          "name": "stdout",
          "text": [
            "Go to the following link in your browser, and complete the sign-in prompts:\n",
            "\n",
            "    https://accounts.google.com/o/oauth2/auth?response_type=code&client_id=764086051850-6qr4p6gpi6hn506pt8ejuq83di341hur.apps.googleusercontent.com&redirect_uri=https%3A%2F%2Fsdk.cloud.google.com%2Fapplicationdefaultauthcode.html&scope=openid+https%3A%2F%2Fwww.googleapis.com%2Fauth%2Fuserinfo.email+https%3A%2F%2Fwww.googleapis.com%2Fauth%2Fcloud-platform+https%3A%2F%2Fwww.googleapis.com%2Fauth%2Fsqlservice.login&state=a0kvIrXqgfbvH62vbjYYtmBdJjN1sy&prompt=consent&token_usage=remote&access_type=offline&code_challenge=OhHjzMPMajihRcurFDe22Y6GY9j7_BCxQqEWrHMjiOY&code_challenge_method=S256\n",
            "\n",
            "Once finished, enter the verification code provided in your browser: 4/0ASVgi3KHYeCrU5QNe1r-bp-dg4d_swE1CXdMW6YO_Vj26udcEP22PMX5U1pk0wZpj8S7MQ\n",
            "\n",
            "Credentials saved to file: [/content/.config/application_default_credentials.json]\n",
            "\n",
            "These credentials will be used by any library that requests Application Default Credentials (ADC).\n",
            "\u001b[1;33mWARNING:\u001b[0m \n",
            "Cannot find a quota project to add to ADC. You might receive a \"quota exceeded\" or \"API not enabled\" error. Run $ gcloud auth application-default set-quota-project to add a quota project.\n"
          ]
        }
      ],
      "source": [
        "!gcloud auth application-default login"
      ]
    },
    {
      "cell_type": "code",
      "source": [
        "# download connector and save it local\n",
        "\n",
        "!wget https://repo1.maven.org/maven2/com/google/cloud/bigdataoss/gcs-connector/hadoop3-2.2.7/gcs-connector-hadoop3-2.2.7-shaded.jar -P /usr/local/lib/"
      ],
      "metadata": {
        "colab": {
          "base_uri": "https://localhost:8080/"
        },
        "id": "ZSysWUdy0Gxo",
        "outputId": "abab904d-55a0-433e-e700-cc12f350c3ac"
      },
      "execution_count": null,
      "outputs": [
        {
          "output_type": "stream",
          "name": "stdout",
          "text": [
            "--2025-01-23 10:01:46--  https://repo1.maven.org/maven2/com/google/cloud/bigdataoss/gcs-connector/hadoop3-2.2.7/gcs-connector-hadoop3-2.2.7-shaded.jar\n",
            "Resolving repo1.maven.org (repo1.maven.org)... 199.232.192.209, 199.232.196.209, 2a04:4e42:4c::209, ...\n",
            "Connecting to repo1.maven.org (repo1.maven.org)|199.232.192.209|:443... connected.\n",
            "HTTP request sent, awaiting response... 200 OK\n",
            "Length: 33831577 (32M) [application/java-archive]\n",
            "Saving to: ‘/usr/local/lib/gcs-connector-hadoop3-2.2.7-shaded.jar’\n",
            "\n",
            "gcs-connector-hadoo 100%[===================>]  32.26M   147MB/s    in 0.2s    \n",
            "\n",
            "2025-01-23 10:01:47 (147 MB/s) - ‘/usr/local/lib/gcs-connector-hadoop3-2.2.7-shaded.jar’ saved [33831577/33831577]\n",
            "\n"
          ]
        }
      ]
    },
    {
      "cell_type": "markdown",
      "source": [
        "\n",
        "\n",
        "---\n",
        "\n",
        "\n",
        "---\n",
        "2. Initialize SparkSession and set up the access to GSC\n"
      ],
      "metadata": {
        "id": "GFpic7qmK_70"
      }
    },
    {
      "cell_type": "code",
      "source": [
        "# import libraries\n",
        "\n",
        "import os\n",
        "from pyspark.sql import SparkSession\n",
        "\n",
        "#spark session\n",
        "spark = SparkSession.builder \\\n",
        "    .appName('GCS_Spark') \\\n",
        "    .config('spark.jars', '/usr/local/lib/gcs-connector-hadoop3-2.2.7-shaded.jar') \\\n",
        "    .config('spark.hadoop.fs.gs.impl', 'com.google.cloud.hadoop.fs.gcs.GoogleHadoopFileSystem') \\\n",
        "    .getOrCreate()\n",
        "\n",
        "# save credentials\n",
        "os.environ[\"GOOGLE_APPLICATION_CREDENTIALS\"] = '/content/.config/application_default_credentials.json'\n",
        "\n",
        "# Config PySpark to access the GCS\n",
        "spark._jsc.hadoopConfiguration().set(\"fs.gs.impl\", \"com.google.cloud.hadoop.fs.gcs.GoogleHadoopFileSystem\")\n",
        "spark._jsc.hadoopConfiguration().set(\"fs.AbstractFileSystem.gs.impl\", \"com.google.cloud.hadoop.fs.gcs.GoogleHadoopFS\")\n",
        "spark._jsc.hadoopConfiguration().set(\"fs.gs.auth.service.account.enable\", \"true\")\n",
        "spark._jsc.hadoopConfiguration().set(\"google.cloud.auth.service.account.json.keyfile\", '/content/.config/application_default_credentials.json')\n"
      ],
      "metadata": {
        "id": "E6bEUtdP0MFV"
      },
      "execution_count": null,
      "outputs": []
    },
    {
      "cell_type": "markdown",
      "source": [
        "\n",
        "\n",
        "---\n",
        "\n",
        "\n",
        "---\n",
        "3. Set up the source schema and initialize the readStream"
      ],
      "metadata": {
        "id": "vwBoK-roLjEm"
      }
    },
    {
      "cell_type": "code",
      "source": [
        "from pyspark.sql.types import *\n",
        "\n",
        "# create schema\n",
        "vehicle_schema = StructType([StructField('bearing', IntegerType(), True),\n",
        "                             StructField('block_id', StringType(), True),\n",
        "                             StructField('current_status', StringType(), True),\n",
        "                             StructField('id', StringType(), True),\n",
        "                             StructField('lat', FloatType(), True),\n",
        "                             StructField('line_id', StringType(), True),\n",
        "                             StructField('lon', FloatType(), True),\n",
        "                             StructField('pattern_id', StringType(), True),\n",
        "                             StructField('route_id', StringType(), True),\n",
        "                             StructField('schedule_relationship', StringType(), True),\n",
        "                             StructField('shift_id', StringType(), True),\n",
        "                             StructField('speed', FloatType(), True),\n",
        "                             StructField('stop_id', StringType(), True),\n",
        "                             StructField('timestamp', TimestampType(), True),\n",
        "                             StructField('trip_id', StringType(), True)])\n",
        "\n",
        "\n",
        "#readStreaming\n",
        "stream = spark.readStream.format(\"json\").schema(vehicle_schema).load(\"gs://edit-de-project-streaming-data/carris-vehicles\")"
      ],
      "metadata": {
        "id": "IQCjtB690VfK"
      },
      "execution_count": null,
      "outputs": []
    },
    {
      "cell_type": "code",
      "source": [
        "#confirm that stream is streaming\n",
        "stream.isStreaming"
      ],
      "metadata": {
        "colab": {
          "base_uri": "https://localhost:8080/"
        },
        "id": "N9neYDUU7g3t",
        "outputId": "3afdb119-e0fc-4f8d-a4a3-bd343dff3871"
      },
      "execution_count": null,
      "outputs": [
        {
          "output_type": "execute_result",
          "data": {
            "text/plain": [
              "True"
            ]
          },
          "metadata": {},
          "execution_count": 5
        }
      ]
    },
    {
      "cell_type": "markdown",
      "source": [
        "\n",
        "\n",
        "---\n",
        "\n",
        "\n",
        "---\n",
        "4. Write the stream in a bronze layer (landing zone)\n",
        "* Purpose: Raw data ingestion layer.\n",
        "* Data Characteristics: Raw, unprocessed, and schema-on-read where feasible.\n",
        "* Data Storage: Store data exactly as ingested (in this case JSON format).\n",
        "* Operations: Minimal transformation; only schema enforcement and deduplication."
      ],
      "metadata": {
        "id": "DYrimmWML5p-"
      }
    },
    {
      "cell_type": "code",
      "source": [
        "bronze_layer=\"gs://edit-data-eng-project-group1/datalake/stream/ELT/bronze_layer\"\n",
        "\n",
        "# writeStreaming\n",
        "query = (stream\n",
        "        .writeStream\n",
        "        .outputMode(\"append\")\n",
        "        .option(\"path\", bronze_layer)\n",
        "        .option('checkpointLocation', 'gs://edit-data-eng-project-group1/datalake/stream/ELT/bronze_layer/checkpoint')\n",
        "        .start()\n",
        "\n",
        "        )\n",
        "\n",
        "query.awaitTermination(60)"
      ],
      "metadata": {
        "colab": {
          "base_uri": "https://localhost:8080/"
        },
        "id": "hDn8R7UI7VdW",
        "outputId": "ea3df9f2-27a8-4fbd-ed4d-57cdeeff721e"
      },
      "execution_count": null,
      "outputs": [
        {
          "output_type": "execute_result",
          "data": {
            "text/plain": [
              "False"
            ]
          },
          "metadata": {},
          "execution_count": 6
        }
      ]
    },
    {
      "cell_type": "code",
      "source": [
        "#check the status of the query\n",
        "query.status"
      ],
      "metadata": {
        "colab": {
          "base_uri": "https://localhost:8080/"
        },
        "id": "Yc1enbxz7jb_",
        "outputId": "ad255d35-3f55-4275-f814-5a377ba03034"
      },
      "execution_count": null,
      "outputs": [
        {
          "output_type": "execute_result",
          "data": {
            "text/plain": [
              "{'message': 'Processing new data',\n",
              " 'isDataAvailable': True,\n",
              " 'isTriggerActive': True}"
            ]
          },
          "metadata": {},
          "execution_count": 7
        }
      ]
    },
    {
      "cell_type": "code",
      "source": [
        "#check if the write streaming is active\n",
        "query.isActive"
      ],
      "metadata": {
        "colab": {
          "base_uri": "https://localhost:8080/"
        },
        "id": "f5l6ZgAL7lv-",
        "outputId": "8b9eb6dd-7d5e-4805-936e-eb390027cc59"
      },
      "execution_count": null,
      "outputs": [
        {
          "output_type": "execute_result",
          "data": {
            "text/plain": [
              "True"
            ]
          },
          "metadata": {},
          "execution_count": 20
        }
      ]
    },
    {
      "cell_type": "code",
      "source": [
        "query.stop()"
      ],
      "metadata": {
        "id": "2VzNk8pW8aNY",
        "collapsed": true
      },
      "execution_count": null,
      "outputs": []
    },
    {
      "cell_type": "markdown",
      "source": [
        "\n",
        "\n",
        "---\n",
        "\n",
        "\n",
        "---\n",
        "5. Check if the bronze layer received the files and prepare the bronze layer operations (schema enforcement and deduplication)"
      ],
      "metadata": {
        "id": "vj5FWb6YPSM9"
      }
    },
    {
      "cell_type": "code",
      "source": [
        "vehicle_schema = StructType([StructField('bearing', IntegerType(), True),\n",
        "                             StructField('block_id', StringType(), True),\n",
        "                             StructField('current_status', StringType(), True),\n",
        "                             StructField('id', StringType(), True),\n",
        "                             StructField('lat', FloatType(), True),\n",
        "                             StructField('line_id', StringType(), True),\n",
        "                             StructField('lon', FloatType(), True),\n",
        "                             StructField('pattern_id', StringType(), True),\n",
        "                             StructField('route_id', StringType(), True),\n",
        "                             StructField('schedule_relationship', StringType(), True),\n",
        "                             StructField('shift_id', StringType(), True),\n",
        "                             StructField('speed', FloatType(), True),\n",
        "                             StructField('stop_id', StringType(), True),\n",
        "                             StructField('timestamp', TimestampType(), True),\n",
        "                             StructField('trip_id', StringType(), True)])\n",
        "\n",
        "# Read the Parquet files into a DataFrame\n",
        "parquet_df = spark.read.schema(vehicle_schema).parquet(bronze_layer)\n",
        "\n",
        "#parquet_df = parquet_df.drop_duplicates()\n",
        "\n",
        "# Show the first few rows\n",
        "parquet_df.show(truncate=False)\n",
        "\n",
        "# Print the schema to understand the data structure\n",
        "parquet_df.printSchema()\n"
      ],
      "metadata": {
        "colab": {
          "base_uri": "https://localhost:8080/"
        },
        "id": "NPbjFFE7GKlO",
        "outputId": "37aef736-5957-4fd2-ecf9-e7fa6c71f818"
      },
      "execution_count": null,
      "outputs": [
        {
          "output_type": "stream",
          "name": "stdout",
          "text": [
            "+-------+------------------------------+--------------+--------+---------+-------+----------+----------+--------+---------------------+------------+---------+-------+-------------------+------------------------+\n",
            "|bearing|block_id                      |current_status|id      |lat      |line_id|lon       |pattern_id|route_id|schedule_relationship|shift_id    |speed    |stop_id|timestamp          |trip_id                 |\n",
            "+-------+------------------------------+--------------+--------+---------+-------+----------+----------+--------+---------------------+------------+---------+-------+-------------------+------------------------+\n",
            "|137    |20250121-64010205-112450234560|IN_TRANSIT_TO |44|12094|38.513027|4401   |-8.8591585|4401_0_2  |4401_0  |SCHEDULED            |112450234560|3.6111112|160479 |2025-01-21 08:42:12|4401_0_2|3200|0830_AEMLZ|\n",
            "|311    |20250121-64010028-123290234560|IN_TRANSIT_TO |44|13597|38.701008|4705   |-8.9522085|4705_0_2  |4705_0  |SCHEDULED            |123290234560|4.7222223|100037 |2025-01-21 08:42:12|4705_0_2|3200|0815_AEMLZ|\n",
            "|134    |20250121-64010022-123240234560|IN_TRANSIT_TO |44|12701|38.65296 |4701   |-9.00604  |4701_0_2  |4701_0  |SCHEDULED            |123240234560|0.0      |090205 |2025-01-21 08:42:12|4701_0_2|3200|0830_AEMLZ|\n",
            "|0      |20250121-64010232-112190234560|INCOMING_AT   |44|12075|38.528786|4401   |-8.870368 |4401_0_1  |4401_0  |SCHEDULED            |112190234560|9.166667 |160022 |2025-01-21 08:42:20|4401_0_1|3200|0800_AEMLZ|\n",
            "|351    |20250121-64010115-121310234560|IN_TRANSIT_TO |44|12515|38.5977  |4612   |-8.998533 |4612_0_2  |4612_0  |SCHEDULED            |121310234560|0.0      |130066 |2025-01-21 08:42:13|4612_0_2|3200|0800_AEMLZ|\n",
            "|154    |20250121-64010081-121640234560|IN_TRANSIT_TO |44|12097|38.706192|4504   |-8.97577  |4504_0_1  |4504_0  |SCHEDULED            |121640234560|6.6666665|100029 |2025-01-21 08:42:12|4504_0_1|3200|0830_AEMLZ|\n",
            "|22     |20250121-64010341-112350234560|IN_TRANSIT_TO |44|12095|38.531322|4422   |-8.885212 |4422_0_2  |4422_0  |SCHEDULED            |112350234560|7.2222223|160201 |2025-01-21 08:42:17|4422_0_2|3200|0820_AEMLZ|\n",
            "|6      |20250121-64010097-121490234560|INCOMING_AT   |44|13600|38.658756|4600   |-8.98978  |4600_0_2  |4600_0  |SCHEDULED            |121490234560|10.555555|090100 |2025-01-21 08:42:12|4600_0_2|3200|0800_AEMLZ|\n",
            "|280    |20250121-64010118-121280234560|IN_TRANSIT_TO |44|12505|38.704437|4504   |-8.973845 |4504_0_2  |4504_0  |SCHEDULED            |121280234560|7.2222223|100027 |2025-01-21 08:42:12|4504_0_2|3200|0800_AEMLZ|\n",
            "|267    |20250121-64010321-111030234560|IN_TRANSIT_TO |44|12516|38.482822|4451   |-8.793863 |4451_0_2  |4451_0  |SCHEDULED            |111030234560|0.0      |160502 |2025-01-21 08:42:12|4451_0_2|3200|0805_AEMLZ|\n",
            "|73     |20250121-64010129-121180234560|IN_TRANSIT_TO |44|12068|38.65527 |4602   |-9.038903 |4602_0_2  |4602_0  |SCHEDULED            |121180234560|6.111111 |090233 |2025-01-21 08:42:19|4602_0_2|3200|0820_AEMLZ|\n",
            "|33     |20250121-64010266-111570234560|IN_TRANSIT_TO |44|12584|38.51783 |4443   |-8.837753 |4443_0_1  |4443_0  |SCHEDULED            |111570234560|6.6666665|160714 |2025-01-21 08:42:26|4443_0_1|3200|0840_AEMLZ|\n",
            "|33     |20250121-64010287-111360234560|INCOMING_AT   |44|12550|38.64576 |4312   |-8.6903515|4312_0_2  |4312_0  |SCHEDULED            |111360234560|13.055555|130283 |2025-01-21 08:42:23|4312_0_2|3200|0815_AEMLZ|\n",
            "|93     |20250121-64010275-111480234560|IN_TRANSIT_TO |44|12552|38.57199 |4562   |-8.876545 |4562_0_1  |4562_0  |SCHEDULED            |111480234560|5.8333335|130009 |2025-01-21 08:42:11|4562_0_1|3200|0815_AEMLZ|\n",
            "|99     |20250121-64010593-113110234560|IN_TRANSIT_TO |44|12683|38.63144 |4710   |-8.915977 |4710_0_2  |4710_0  |SCHEDULED            |113110234560|0.0      |130349 |2025-01-21 08:42:12|4710_0_2|3200|0800_AEMLZ|\n",
            "|317    |20250121-64010136-121110234560|IN_TRANSIT_TO |44|12511|38.71933 |4600   |-8.998698 |4600_0_2  |4600_0  |SCHEDULED            |121110234560|5.2777777|010177 |2025-01-21 08:42:15|4600_0_2|3200|0730_AEMLZ|\n",
            "|169    |20250121-64010143-121040234560|IN_TRANSIT_TO |44|12504|38.570717|4512   |-8.888253 |4512_0_1  |4512_0  |SCHEDULED            |121040234560|0.0      |130459 |2025-01-21 08:42:21|4512_0_1|3200|0730_AEMLZ|\n",
            "|295    |20250121-64010134-121130234560|INCOMING_AT   |44|12512|38.658627|4600   |-9.041025 |4600_0_1  |4600_0  |SCHEDULED            |121130234560|4.7222223|090195 |2025-01-21 08:42:21|4600_0_1|3200|0730_AEMLZ|\n",
            "|58     |20250121-64010276-111470234560|INCOMING_AT   |44|12738|38.521328|4562   |-9.00831  |4562_0_2  |4562_0  |SCHEDULED            |111470234560|13.055555|160778 |2025-01-21 08:42:12|4562_0_2|3200|0835_AEMLZ|\n",
            "|95     |20250121-64010244-112080234560|IN_TRANSIT_TO |44|12098|38.53003 |4441   |-8.877542 |4441_0_1  |4441_0  |SCHEDULED            |112080234560|0.0      |160026 |2025-01-21 08:42:25|4441_0_1|3200|0830_AEMLZ|\n",
            "+-------+------------------------------+--------------+--------+---------+-------+----------+----------+--------+---------------------+------------+---------+-------+-------------------+------------------------+\n",
            "only showing top 20 rows\n",
            "\n",
            "root\n",
            " |-- bearing: integer (nullable = true)\n",
            " |-- block_id: string (nullable = true)\n",
            " |-- current_status: string (nullable = true)\n",
            " |-- id: string (nullable = true)\n",
            " |-- lat: float (nullable = true)\n",
            " |-- line_id: string (nullable = true)\n",
            " |-- lon: float (nullable = true)\n",
            " |-- pattern_id: string (nullable = true)\n",
            " |-- route_id: string (nullable = true)\n",
            " |-- schedule_relationship: string (nullable = true)\n",
            " |-- shift_id: string (nullable = true)\n",
            " |-- speed: float (nullable = true)\n",
            " |-- stop_id: string (nullable = true)\n",
            " |-- timestamp: timestamp (nullable = true)\n",
            " |-- trip_id: string (nullable = true)\n",
            "\n"
          ]
        }
      ]
    },
    {
      "cell_type": "markdown",
      "source": [
        "\n",
        "\n",
        "---\n",
        "\n",
        "\n",
        "---\n",
        "6. Ingest to the silver layer\n",
        "* Purpose: Cleaned and enriched data layer.\n",
        "* Data Characteristics: Schema-on-write, normalized/structured, with quality checks applied.\n",
        "* Operations:\n",
        "Filter for getting only the columns required.\n",
        "Joins with reference data (Historical STOPS) for enrichment.\n",
        "Simple calculations and store it in new columns."
      ],
      "metadata": {
        "id": "PmwPNAcC4tm6"
      }
    },
    {
      "cell_type": "code",
      "source": [
        "from pyspark.sql.functions import lag , col, coalesce\n",
        "from pyspark.sql.window import Window\n",
        "from pyspark.sql.functions import udf\n",
        "from pyspark.sql.types import FloatType\n",
        "import math\n",
        "\n",
        "def haversine_distance(lat1, lon1, lat2, lon2):\n",
        "\n",
        "    if any(x is None for x in [lat1, lon1, lat2, lon2]):\n",
        "        return 0.0\n",
        "    R = 6371  # Earth's radius in kilometers\n",
        "\n",
        "    # Convert latitude and longitude to radians\n",
        "    lat1, lon1, lat2, lon2 = map(math.radians, [lat1, lon1, lat2, lon2])\n",
        "\n",
        "    # Calculate differences\n",
        "    dlat = lat2 - lat1\n",
        "    dlon = lon2 - lon1\n",
        "\n",
        "    # Apply Haversine formula\n",
        "    a = math.sin(dlat/2)**2 + math.cos(lat1) * math.cos(lat2) * math.sin(dlon/2)**2\n",
        "    c = 2 * math.asin(math.sqrt(a))\n",
        "\n",
        "    # Calculate distance\n",
        "    distance = R * c\n",
        "\n",
        "    return distance\n",
        "\n",
        "# Register the UDF\n",
        "distance_udf = udf(haversine_distance, FloatType())\n",
        "\n",
        "# Define a window specification\n",
        "windowSpec = Window.partitionBy(\"id\").orderBy(\"timestamp\")\n",
        "\n",
        "#select columns\n",
        "transform = parquet_df.select('id', 'speed', 'timestamp','line_id','route_id','stop_id','lat', 'lon')\n",
        "\n",
        "# Create a new column 'previous_value' using lag\n",
        "transform = transform.withColumn(\"previous_lat\", coalesce(lag(\"lat\", 1).over(windowSpec), col('lat')))\n",
        "transform = transform.withColumn(\"previous_lon\", coalesce(lag(\"lon\", 1).over(windowSpec), col('lon')))\n",
        "\n",
        "# Get the dataset from endpoint STOPS that we need to join to our main dataset\n",
        "df_stops = spark.read.option(\"header\", \"true\").csv('gs://edit-data-eng-project-group1/LandingZone/GTFS/stops.txt')\n",
        "df_stops = df_stops.select('stop_id','stop_lat','stop_lon')\n",
        "df_stops = df_stops.withColumn(\"stop_lat\", df_stops[\"stop_lat\"].cast(\"float\"))\n",
        "df_stops = df_stops.withColumn(\"stop_lon\", df_stops[\"stop_lon\"].cast(\"float\"))\n",
        "\n",
        "# Join and add new calculated columns\n",
        "transform = transform.join(df_stops, on='stop_id', how='left')\n",
        "\n",
        "transform = transform.withColumn(\"distance\", distance_udf(transform[\"previous_lat\"],transform[\"previous_lon\"],transform[\"lat\"],transform[\"lon\"]))\n",
        "transform = transform.withColumn(\"distance_to_stop\", distance_udf(transform[\"lat\"],transform[\"lon\"],transform[\"stop_lat\"],transform[\"stop_lon\"]))\n",
        "\n",
        "transform.show()"
      ],
      "metadata": {
        "colab": {
          "base_uri": "https://localhost:8080/"
        },
        "id": "SZyhTfrV2Fj-",
        "outputId": "452d52ef-5caa-4457-8582-d2c63fb72a4a"
      },
      "execution_count": null,
      "outputs": [
        {
          "output_type": "stream",
          "name": "stdout",
          "text": [
            "+-------+-------+---------+-------------------+-------+--------+---------+---------+------------+------------+---------+---------+-----------+----------------+\n",
            "|stop_id|     id|    speed|          timestamp|line_id|route_id|      lat|      lon|previous_lat|previous_lon| stop_lat| stop_lon|   distance|distance_to_stop|\n",
            "+-------+-------+---------+-------------------+-------+--------+---------+---------+------------+------------+---------+---------+-----------+----------------+\n",
            "| 120279|41|1100|0.2777778|2025-01-21 08:26:45|   1606|  1606_0| 38.72538|-9.246014|    38.72538|   -9.246014|38.725388|-9.246036|        0.0|    0.0020833486|\n",
            "| 120281|41|1100| 6.111111|2025-01-21 08:27:23|   1606|  1606_0|38.725426|-9.246371|    38.72538|   -9.246014|38.725094|-9.249104| 0.03143868|      0.23987857|\n",
            "| 120281|41|1100| 6.111111|2025-01-21 08:27:23|   1606|  1606_0|38.725426|-9.246371|   38.725426|   -9.246371|38.725094|-9.249104|        0.0|      0.23987857|\n",
            "| 120431|41|1100|3.3333333|2025-01-21 08:28:07|   1606|  1606_0|38.725025|-9.249382|   38.725426|   -9.246371|38.723774|-9.247636|  0.2649507|       0.2056784|\n",
            "| 120431|41|1100|      7.5|2025-01-21 08:28:51|   1606|  1606_0| 38.72386|-9.248462|   38.725025|   -9.249382|38.723774|-9.247636| 0.15202379|      0.07230727|\n",
            "| 120283|41|1100| 9.444445|2025-01-21 08:29:16|   1606|  1606_0|38.723534|-9.247613|    38.72386|   -9.248462| 38.72322|-9.248406|0.082172744|      0.07712249|\n",
            "| 120285|41|1100| 8.888889|2025-01-21 08:29:28|   1606|  1606_0| 38.72305|-9.248899|   38.723534|   -9.247613|38.720734|-9.250854| 0.12392749|      0.30827093|\n",
            "| 120285|41|1100|7.2222223|2025-01-21 08:30:05|   1606|  1606_0| 38.72292|-9.250658|    38.72305|   -9.248899|38.720734|-9.250854|  0.1532401|      0.24364331|\n",
            "| 120287|41|1100|     10.0|2025-01-21 08:30:37|   1606|  1606_0|38.720783|-9.250787|    38.72292|   -9.250658| 38.71751|-9.252359| 0.23780043|       0.3886749|\n",
            "| 120289|41|1100|13.611111|2025-01-21 08:31:14|   1606|  1606_0|38.717346|-9.252539|   38.720783|   -9.250787|   38.716|-9.254038| 0.41129494|      0.19833782|\n",
            "| 120289|41|1100|      0.0|2025-01-21 08:31:45|   1606|  1606_0| 38.71603|-9.254039|   38.717346|   -9.252539|   38.716|-9.254038| 0.19584359|    0.0033944084|\n",
            "| 120291|41|1100|3.0555556|2025-01-21 08:32:21|   1606|  1606_0|38.714947|-9.255993|    38.71603|   -9.254039| 38.71479|-9.256263| 0.20797867|     0.029167939|\n",
            "| 120293|41|1100| 8.055555|2025-01-21 08:32:42|   1606|  1606_0|38.714767|-9.256356|   38.714947|   -9.255993|38.715626|-9.262791| 0.03729978|       0.5663608|\n",
            "| 120293|41|1100| 6.388889|2025-01-21 08:32:58|   1606|  1606_0|38.714474|-9.257175|   38.714767|   -9.256356|38.715626|-9.262791| 0.07822138|      0.50374687|\n",
            "| 120293|41|1100|1.6666666|2025-01-21 08:33:48|   1606|  1606_0| 38.71565|-9.262754|   38.714474|   -9.257175|38.715626|-9.262791| 0.50136375|    0.0040451414|\n",
            "| 121219|41|1100|4.4444447|2025-01-21 08:34:10|   1606|  1606_0|38.715687|-9.263042|    38.71565|   -9.262754|38.715153|-9.263576|0.025345437|      0.07527173|\n",
            "| 121219|41|1100|4.4444447|2025-01-21 08:34:10|   1606|  1606_0|38.715687|-9.263042|   38.715687|   -9.263042|38.715153|-9.263576|        0.0|      0.07527173|\n",
            "| 121219|41|1100|      0.0|2025-01-21 08:35:22|   1606|  1606_0| 38.71522|-9.263537|   38.715687|   -9.263042|38.715153|-9.263576| 0.06724656|     0.008321631|\n",
            "| 121075|41|1100|10.277778|2025-01-21 08:35:51|   1606|  1606_0| 38.71494|-9.263243|    38.71522|   -9.263537|38.709793|-9.266945| 0.04048403|       0.6562069|\n",
            "| 121075|41|1100|10.277778|2025-01-21 08:35:51|   1606|  1606_0| 38.71494|-9.263243|    38.71494|   -9.263243|38.709793|-9.266945|        0.0|       0.6562069|\n",
            "+-------+-------+---------+-------------------+-------+--------+---------+---------+------------+------------+---------+---------+-----------+----------------+\n",
            "only showing top 20 rows\n",
            "\n"
          ]
        }
      ]
    },
    {
      "cell_type": "code",
      "source": [
        "transform.printSchema()"
      ],
      "metadata": {
        "colab": {
          "base_uri": "https://localhost:8080/"
        },
        "id": "ZHMcnk2ADE-l",
        "outputId": "bebba108-c0e7-45af-f38f-1da325da60e5"
      },
      "execution_count": null,
      "outputs": [
        {
          "output_type": "stream",
          "name": "stdout",
          "text": [
            "root\n",
            " |-- stop_id: string (nullable = true)\n",
            " |-- id: string (nullable = true)\n",
            " |-- speed: float (nullable = true)\n",
            " |-- timestamp: timestamp (nullable = true)\n",
            " |-- line_id: string (nullable = true)\n",
            " |-- route_id: string (nullable = true)\n",
            " |-- lat: float (nullable = true)\n",
            " |-- lon: float (nullable = true)\n",
            " |-- previous_lat: float (nullable = true)\n",
            " |-- previous_lon: float (nullable = true)\n",
            " |-- stop_lat: float (nullable = true)\n",
            " |-- stop_lon: float (nullable = true)\n",
            " |-- distance: float (nullable = true)\n",
            " |-- distance_to_stop: float (nullable = true)\n",
            "\n"
          ]
        }
      ]
    },
    {
      "cell_type": "code",
      "source": [
        "transform.write.format(\"parquet\").mode(\"overwrite\").save(\"gs://edit-data-eng-project-group1/datalake/stream/ELT/silver_layer\")"
      ],
      "metadata": {
        "id": "xVPnM-jtTsFy"
      },
      "execution_count": null,
      "outputs": []
    },
    {
      "cell_type": "markdown",
      "source": [
        "\n",
        "\n",
        "---\n",
        "\n",
        "\n",
        "---\n",
        "7. Ingest to the gold layer\n",
        "* Purpose: Aggregated data ready for analytics and reporting.\n",
        "* Data Characteristics: Pre-aggregated, aggregated by business logic, optimized for query performance.\n",
        "* Operations: Aggregations, windowed calculations. Metrics computations (e.g., averages, counts, sums)."
      ],
      "metadata": {
        "id": "X2BXLU-FUZcF"
      }
    },
    {
      "cell_type": "code",
      "source": [
        "transform = spark.read.format(\"parquet\").load(\"gs://edit-data-eng-project-group1/datalake/stream/ELT/silver_layer\")"
      ],
      "metadata": {
        "id": "TxgkpflWUpP9"
      },
      "execution_count": null,
      "outputs": []
    },
    {
      "cell_type": "code",
      "source": [
        "import pyspark.sql.functions as F\n",
        "\n",
        "\n",
        "agg = transform.groupBy(\"id\", \"stop_id\", F.window(\"timestamp\", \"2 minutes\")).agg(\n",
        "    F.sum('distance').alias(\"distance_2_min\"),\n",
        "    F.last('distance_to_stop').alias('distance_to_stop')\n",
        "    )\n",
        "\n",
        "agg = agg.withColumn('speed', col('distance_2_min')/(2/60))\n",
        "\n",
        "agg = agg.filter(agg.distance_to_stop.isNotNull() & (agg.distance_to_stop > 0) & (agg.speed.isNotNull()) & (agg.speed > 0)) \\\n",
        "         .withColumn('time_to_stop', (col('distance_to_stop')/col('speed') * 3600))\n",
        "\n",
        "agg = agg.withColumn(\n",
        "    'time_to_stop',\n",
        "    F.from_unixtime(\n",
        "        F.unix_timestamp(F.lit('00:00:00'), 'HH:mm:ss') + col('time_to_stop'),\n",
        "        'HH:mm:ss'\n",
        "    )\n",
        ")\n",
        "\n",
        "\n",
        "agg.show()"
      ],
      "metadata": {
        "colab": {
          "base_uri": "https://localhost:8080/"
        },
        "id": "Q9M7e7N_Cs2y",
        "outputId": "fb460d89-cb06-41f7-91af-baeefbf709ba"
      },
      "execution_count": null,
      "outputs": [
        {
          "output_type": "stream",
          "name": "stdout",
          "text": [
            "+-------+-------+--------------------+-------------------+----------------+------------------+------------+\n",
            "|     id|stop_id|              window|     distance_2_min|distance_to_stop|             speed|time_to_stop|\n",
            "+-------+-------+--------------------+-------------------+----------------+------------------+------------+\n",
            "|41|1102| 120033|{2025-01-21 09:04...|0.28879860043525696|     0.010783878| 8.663958013057709|    00:00:04|\n",
            "|41|1102| 120283|{2025-01-21 09:14...| 0.2967355474829674|    0.0025463942| 8.902066424489021|    00:00:01|\n",
            "|41|1102| 120261|{2025-01-22 07:12...|0.10032915696501732|      0.03582338|3.0098747089505196|    00:00:42|\n",
            "|41|1102| 120181|{2025-01-22 17:20...| 0.3366996943950653|     0.006795796| 10.10099083185196|    00:00:02|\n",
            "|41|1102| 120261|{2025-01-23 07:12...|0.06684991717338562|     0.002651806|2.0054975152015686|    00:00:04|\n",
            "|41|1102| 120061|{2025-01-23 11:00...| 0.1589718833565712|    0.0050084856| 4.769156500697136|    00:00:03|\n",
            "|41|1103| 120015|{2025-01-21 15:28...| 0.2639096677303314|    0.0013698483| 7.917290031909943|    00:00:00|\n",
            "|41|1103| 121067|{2025-01-21 18:58...|0.11611327528953552|      0.06313308|3.4833982586860657|    00:01:05|\n",
            "|41|1103| 030561|{2025-01-21 20:34...| 0.2825373113155365|      0.27729845| 8.476119339466095|    00:01:57|\n",
            "|41|1103| 120013|{2025-01-22 08:40...|  0.187242291867733|    0.0024670342|  5.61726875603199|    00:00:01|\n",
            "|41|1103| 120101|{2025-01-23 09:42...| 0.3803628012537956|      0.05295019|11.410884037613869|    00:00:16|\n",
            "|41|1105| 120941|{2025-01-21 15:08...|0.11788272857666016|      0.07494362|3.5364818572998047|    00:01:16|\n",
            "|41|1105| 120982|{2025-01-21 15:58...| 0.0685768574476242|       0.0526165| 2.057305723428726|    00:01:32|\n",
            "|41|1105| 120994|{2025-01-21 17:46...|  0.151200070977211|      0.07514134|  4.53600212931633|    00:00:59|\n",
            "|41|1105| 121270|{2025-01-22 07:22...|0.24714062199927866|      0.00850163|  7.41421865997836|    00:00:04|\n",
            "|41|1105| 170730|{2025-01-22 11:38...| 0.8066409379243851|      0.41696852|24.199228137731552|    00:01:02|\n",
            "|41|1105| 121121|{2025-01-22 14:58...|0.09158371388912201|       0.4682337|2.7475114166736603|    00:10:13|\n",
            "|41|1105| 170775|{2025-01-22 15:30...| 0.0924074724316597|        0.508149| 2.772224172949791|    00:10:59|\n",
            "|41|1105| 120999|{2025-01-22 17:02...|0.18588903546333313|      0.14382981| 5.576671063899994|    00:01:32|\n",
            "|41|1105| 121108|{2025-01-23 07:10...|0.39273974299430847|      0.08853564|11.782192289829254|    00:00:27|\n",
            "+-------+-------+--------------------+-------------------+----------------+------------------+------------+\n",
            "only showing top 20 rows\n",
            "\n"
          ]
        }
      ]
    },
    {
      "cell_type": "code",
      "source": [
        "transform.write.format(\"parquet\").mode(\"overwrite\").save(\"gs://edit-data-eng-project-group1/datalake/stream/ELT/gold_layer\")"
      ],
      "metadata": {
        "id": "9Qb3J7ZbU02g"
      },
      "execution_count": null,
      "outputs": []
    }
  ]
}